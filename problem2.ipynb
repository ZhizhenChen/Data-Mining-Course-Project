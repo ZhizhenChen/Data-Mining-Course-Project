{
 "cells": [
  {
   "cell_type": "markdown",
   "metadata": {
    "id": "wpZmXd0pcth8"
   },
   "source": [
    "# **1 Implementing k-means on Spark**"
   ]
  },
  {
   "cell_type": "code",
   "execution_count": 1,
   "metadata": {
    "colab": {
     "base_uri": "https://localhost:8080/"
    },
    "id": "gSsO-GCDeU8q",
    "outputId": "a77c95c1-d798-416f-e97f-e3606a3b41ab"
   },
   "outputs": [
    {
     "name": "stdout",
     "output_type": "stream",
     "text": [
      "Looking in indexes: https://pypi.org/simple, https://us-python.pkg.dev/colab-wheels/public/simple/\n",
      "Collecting pyspark\n",
      "  Downloading pyspark-3.4.0.tar.gz (310.8 MB)\n",
      "\u001b[2K     \u001b[90m━━━━━━━━━━━━━━━━━━━━━━━━━━━━━━━━━━━━━━━\u001b[0m \u001b[32m310.8/310.8 MB\u001b[0m \u001b[31m4.1 MB/s\u001b[0m eta \u001b[36m0:00:00\u001b[0m\n",
      "\u001b[?25h  Preparing metadata (setup.py) ... \u001b[?25l\u001b[?25hdone\n",
      "Requirement already satisfied: py4j==0.10.9.7 in /usr/local/lib/python3.10/dist-packages (from pyspark) (0.10.9.7)\n",
      "Building wheels for collected packages: pyspark\n",
      "  Building wheel for pyspark (setup.py) ... \u001b[?25l\u001b[?25hdone\n",
      "  Created wheel for pyspark: filename=pyspark-3.4.0-py2.py3-none-any.whl size=311317145 sha256=df381e2480dbd00a413e1d3e7ffa0c25906177161ddae4f5b3de9740141633d9\n",
      "  Stored in directory: /root/.cache/pip/wheels/7b/1b/4b/3363a1d04368e7ff0d408e57ff57966fcdf00583774e761327\n",
      "Successfully built pyspark\n",
      "Installing collected packages: pyspark\n",
      "Successfully installed pyspark-3.4.0\n",
      "The following additional packages will be installed:\n",
      "  libxtst6 openjdk-8-jre-headless\n",
      "Suggested packages:\n",
      "  openjdk-8-demo openjdk-8-source libnss-mdns fonts-dejavu-extra\n",
      "  fonts-ipafont-gothic fonts-ipafont-mincho fonts-wqy-microhei\n",
      "  fonts-wqy-zenhei fonts-indic\n",
      "The following NEW packages will be installed:\n",
      "  libxtst6 openjdk-8-jdk-headless openjdk-8-jre-headless\n",
      "0 upgraded, 3 newly installed, 0 to remove and 24 not upgraded.\n",
      "Need to get 36.5 MB of archives.\n",
      "After this operation, 144 MB of additional disk space will be used.\n",
      "Selecting previously unselected package libxtst6:amd64.\n",
      "(Reading database ... 122518 files and directories currently installed.)\n",
      "Preparing to unpack .../libxtst6_2%3a1.2.3-1_amd64.deb ...\n",
      "Unpacking libxtst6:amd64 (2:1.2.3-1) ...\n",
      "Selecting previously unselected package openjdk-8-jre-headless:amd64.\n",
      "Preparing to unpack .../openjdk-8-jre-headless_8u362-ga-0ubuntu1~20.04.1_amd64.deb ...\n",
      "Unpacking openjdk-8-jre-headless:amd64 (8u362-ga-0ubuntu1~20.04.1) ...\n",
      "Selecting previously unselected package openjdk-8-jdk-headless:amd64.\n",
      "Preparing to unpack .../openjdk-8-jdk-headless_8u362-ga-0ubuntu1~20.04.1_amd64.deb ...\n",
      "Unpacking openjdk-8-jdk-headless:amd64 (8u362-ga-0ubuntu1~20.04.1) ...\n",
      "Setting up libxtst6:amd64 (2:1.2.3-1) ...\n",
      "Setting up openjdk-8-jre-headless:amd64 (8u362-ga-0ubuntu1~20.04.1) ...\n",
      "update-alternatives: using /usr/lib/jvm/java-8-openjdk-amd64/jre/bin/orbd to provide /usr/bin/orbd (orbd) in auto mode\n",
      "update-alternatives: using /usr/lib/jvm/java-8-openjdk-amd64/jre/bin/servertool to provide /usr/bin/servertool (servertool) in auto mode\n",
      "update-alternatives: using /usr/lib/jvm/java-8-openjdk-amd64/jre/bin/tnameserv to provide /usr/bin/tnameserv (tnameserv) in auto mode\n",
      "Setting up openjdk-8-jdk-headless:amd64 (8u362-ga-0ubuntu1~20.04.1) ...\n",
      "update-alternatives: using /usr/lib/jvm/java-8-openjdk-amd64/bin/idlj to provide /usr/bin/idlj (idlj) in auto mode\n",
      "update-alternatives: using /usr/lib/jvm/java-8-openjdk-amd64/bin/wsimport to provide /usr/bin/wsimport (wsimport) in auto mode\n",
      "update-alternatives: using /usr/lib/jvm/java-8-openjdk-amd64/bin/jsadebugd to provide /usr/bin/jsadebugd (jsadebugd) in auto mode\n",
      "update-alternatives: using /usr/lib/jvm/java-8-openjdk-amd64/bin/native2ascii to provide /usr/bin/native2ascii (native2ascii) in auto mode\n",
      "update-alternatives: using /usr/lib/jvm/java-8-openjdk-amd64/bin/javah to provide /usr/bin/javah (javah) in auto mode\n",
      "update-alternatives: using /usr/lib/jvm/java-8-openjdk-amd64/bin/hsdb to provide /usr/bin/hsdb (hsdb) in auto mode\n",
      "update-alternatives: using /usr/lib/jvm/java-8-openjdk-amd64/bin/clhsdb to provide /usr/bin/clhsdb (clhsdb) in auto mode\n",
      "update-alternatives: using /usr/lib/jvm/java-8-openjdk-amd64/bin/xjc to provide /usr/bin/xjc (xjc) in auto mode\n",
      "update-alternatives: using /usr/lib/jvm/java-8-openjdk-amd64/bin/schemagen to provide /usr/bin/schemagen (schemagen) in auto mode\n",
      "update-alternatives: using /usr/lib/jvm/java-8-openjdk-amd64/bin/extcheck to provide /usr/bin/extcheck (extcheck) in auto mode\n",
      "update-alternatives: using /usr/lib/jvm/java-8-openjdk-amd64/bin/jhat to provide /usr/bin/jhat (jhat) in auto mode\n",
      "update-alternatives: using /usr/lib/jvm/java-8-openjdk-amd64/bin/wsgen to provide /usr/bin/wsgen (wsgen) in auto mode\n",
      "Processing triggers for libc-bin (2.31-0ubuntu9.9) ...\n"
     ]
    }
   ],
   "source": [
    "!pip install pyspark\n",
    "!pip install -U -q PyDrive\n",
    "!apt install openjdk-8-jdk-headless -qq\n",
    "import os\n",
    "os.environ[\"JAVA_HOME\"] = \"/usr/lib/jvm/java-8-openjdk-amd64\""
   ]
  },
  {
   "cell_type": "code",
   "execution_count": 2,
   "metadata": {
    "id": "ni03h7w5dWzU"
   },
   "outputs": [],
   "source": [
    "from pyspark import SparkContext, SparkConf\n",
    "from pyspark.sql import SparkSession\n",
    "import numpy as np\n",
    "from operator import add\n",
    "from matplotlib import pyplot as plt\n",
    "import numpy as np"
   ]
  },
  {
   "cell_type": "code",
   "execution_count": 3,
   "metadata": {
    "id": "XMo_C83AdYiZ"
   },
   "outputs": [],
   "source": [
    "# conf = SparkConf().setAppName(\"KMeans\")\n",
    "# create the session\n",
    "conf = SparkConf().set(\"spark.ui.port\", \"4050\")\n",
    "\n",
    "# create the context\n",
    "sc = SparkContext.getOrCreate(conf=conf)\n",
    "spark = SparkSession.builder.getOrCreate()"
   ]
  },
  {
   "cell_type": "code",
   "execution_count": 4,
   "metadata": {
    "id": "2rTpSpLbJcI0"
   },
   "outputs": [],
   "source": [
    "def eu_dis(a,b):\n",
    "  a = switch(a)\n",
    "  b = switch(b)\n",
    "  a = np.array(a)\n",
    "  b = np.array(b)\n",
    "  return np.linalg.norm(a-b)"
   ]
  },
  {
   "cell_type": "code",
   "execution_count": 5,
   "metadata": {
    "id": "BgNK3enmLhXO"
   },
   "outputs": [],
   "source": [
    "def man_dis(a,b):\n",
    "  a = switch(a)\n",
    "  b = switch(b)\n",
    "  a = np.array(a)\n",
    "  b = np.array(b)\n",
    "  return np.linalg.norm(a-b,1)"
   ]
  },
  {
   "cell_type": "code",
   "execution_count": 6,
   "metadata": {
    "id": "KE8Q6qvPL79H"
   },
   "outputs": [],
   "source": [
    "def cost_function(C,bd,alg):\n",
    "  if alg == 'man':\n",
    "    return C.map(lambda x: man_dis(x[1],bd.value[x[0]])).reduce(add)\n",
    "  else:\n",
    "    return C.map(lambda x: np.square(eu_dis(x[1],bd.value[x[0]]))).reduce(add)"
   ]
  },
  {
   "cell_type": "code",
   "execution_count": 7,
   "metadata": {
    "id": "7JwuB7CzDGc3"
   },
   "outputs": [],
   "source": [
    "def switch(a):\n",
    "  return [float(i) for i in a.split()]"
   ]
  },
  {
   "cell_type": "code",
   "execution_count": 8,
   "metadata": {
    "id": "XD3O0kq2XhG3"
   },
   "outputs": [],
   "source": [
    "def kmeans(X,C,k,max_iter,alg):\n",
    "  cost = []\n",
    "  for i in range(max_iter):\n",
    "    bd = sc.broadcast(C.collect())\n",
    "    if alg == 'man':\n",
    "      closest_centroids = X.map(lambda x: (np.argmin([man_dis(x,c) for c in bd.value]), x))\n",
    "    else:\n",
    "      closest_centroids = X.map(lambda x: (np.argmin([eu_dis(x,c) for c in bd.value]), x))\n",
    "    cost.append(cost_function(closest_centroids,bd,alg))\n",
    "    new_centroids = closest_centroids.map(lambda x: (x[0],switch(x[1]))).groupByKey().mapValues(list).map(lambda x: sum_list(x[1]))\n",
    "    C = new_centroids\n",
    "  return C.collect(),cost"
   ]
  },
  {
   "cell_type": "code",
   "execution_count": 9,
   "metadata": {
    "id": "p_iV9RwPZ0Fi"
   },
   "outputs": [],
   "source": [
    "def sum_list(a):\n",
    "  sum = a[0]\n",
    "  for i in a[1:]:\n",
    "    for j in range(len(i)):\n",
    "      sum[j] += i[j]\n",
    "  for k in range(len(sum)):\n",
    "    sum[k] = str(sum[k]/len(a))\n",
    "  sumstr = ' '.join(sum)\n",
    "  return sumstr\n"
   ]
  },
  {
   "cell_type": "code",
   "execution_count": 28,
   "metadata": {},
   "outputs": [
    {
     "name": "stdout",
     "output_type": "stream",
     "text": [
      "h [[0.80178373]\n",
      " [0.53452248]\n",
      " [0.26726124]]\n",
      "a [[0.61545745]\n",
      " [0.49236596]\n",
      " [0.61545745]]\n",
      "h [[0.79259392]\n",
      " [0.56613852]\n",
      " [0.22645541]]\n",
      "a [[0.62469505]\n",
      " [0.46852129]\n",
      " [0.62469505]]\n",
      "h [[0.78975397]\n",
      " [0.57436653]\n",
      " [0.21538745]]\n",
      "a [[0.62709344]\n",
      " [0.46206885]\n",
      " [0.62709344]]\n",
      "(array([4.73205081e+00, 1.95664611e-16, 1.26794919e+00]), array([[-6.27963030e-01, -7.07106781e-01,  3.25057584e-01],\n",
      "       [-4.59700843e-01,  3.41960338e-16, -8.88073834e-01],\n",
      "       [-6.27963030e-01,  7.07106781e-01,  3.25057584e-01]]))\n"
     ]
    }
   ],
   "source": [
    "import numpy as np\n",
    "\n",
    "A = np.array([[1,1,1],[1,0,1],[0,1,0]])\n",
    "\n",
    "h = np.array([[1/np.sqrt(3)],[1/np.sqrt(3)],[1/np.sqrt(3)]])\n",
    "a = np.array([[1/np.sqrt(3)],[1/np.sqrt(3)],[1/np.sqrt(3)]])\n",
    "\n",
    "\n",
    "\n",
    "def power_iter(A,h,a):\n",
    "    h = A@a/np.linalg.norm(A@a)\n",
    "    a = A.T@h/np.linalg.norm(A.T@h)\n",
    "#     lla = 1/np.linalg.norm(h,ord = 2)\n",
    "#     miu = 1/np.linalg.norm(a,ord = 2)\n",
    "#     h = lla*h\n",
    "#     a = miu*a\n",
    "    print('h',h)\n",
    "    print('a',a)\n",
    "    return h ,a\n",
    "\n",
    "i = 0\n",
    "while i < 3:\n",
    "    h,a = power_iter(A,h,a)\n",
    "    i += 1\n",
    "    \n",
    "print(np.linalg.eig(A.T@A))"
   ]
  },
  {
   "cell_type": "code",
   "execution_count": 6,
   "metadata": {},
   "outputs": [
    {
     "data": {
      "text/plain": [
       "0.8017837257372731"
      ]
     },
     "execution_count": 6,
     "metadata": {},
     "output_type": "execute_result"
    }
   ],
   "source": [
    "a = 14*0.58**2\n",
    "3*0.58/np.sqrt(a)"
   ]
  },
  {
   "cell_type": "markdown",
   "metadata": {
    "id": "6mLzlac3OlH6"
   },
   "source": [
    "## **(a) 1.**"
   ]
  },
  {
   "cell_type": "code",
   "execution_count": 1,
   "metadata": {
    "id": "5gpk5ZJCLVQU"
   },
   "outputs": [
    {
     "ename": "NameError",
     "evalue": "name 'sc' is not defined",
     "output_type": "error",
     "traceback": [
      "\u001b[1;31m---------------------------------------------------------------------------\u001b[0m",
      "\u001b[1;31mNameError\u001b[0m                                 Traceback (most recent call last)",
      "Input \u001b[1;32mIn [1]\u001b[0m, in \u001b[0;36m<cell line: 1>\u001b[1;34m()\u001b[0m\n\u001b[1;32m----> 1\u001b[0m rdd \u001b[38;5;241m=\u001b[39m \u001b[43msc\u001b[49m\u001b[38;5;241m.\u001b[39mtextFile(\u001b[38;5;124m\"\u001b[39m\u001b[38;5;124mdata.txt\u001b[39m\u001b[38;5;124m\"\u001b[39m)\n\u001b[0;32m      2\u001b[0m centroid_1 \u001b[38;5;241m=\u001b[39m sc\u001b[38;5;241m.\u001b[39mtextFile(\u001b[38;5;124m\"\u001b[39m\u001b[38;5;124mc1.txt\u001b[39m\u001b[38;5;124m\"\u001b[39m)\n\u001b[0;32m      3\u001b[0m centroid_2 \u001b[38;5;241m=\u001b[39m sc\u001b[38;5;241m.\u001b[39mtextFile(\u001b[38;5;124m\"\u001b[39m\u001b[38;5;124mc2.txt\u001b[39m\u001b[38;5;124m\"\u001b[39m)\n",
      "\u001b[1;31mNameError\u001b[0m: name 'sc' is not defined"
     ]
    }
   ],
   "source": [
    "rdd = sc.textFile(\"data.txt\")\n",
    "centroid_1 = sc.textFile(\"c1.txt\")\n",
    "centroid_2 = sc.textFile(\"c2.txt\")"
   ]
  },
  {
   "cell_type": "code",
   "execution_count": 11,
   "metadata": {
    "id": "5DdhYJNcioXe"
   },
   "outputs": [],
   "source": [
    "final_centroid_c1 = kmeans(rdd,centroid_1,k = 10,max_iter = 20,alg = 'eu')\n",
    "final_centroid_c2 = kmeans(rdd,centroid_2,k = 10,max_iter = 20,alg = 'eu')"
   ]
  },
  {
   "cell_type": "code",
   "execution_count": 18,
   "metadata": {
    "colab": {
     "base_uri": "https://localhost:8080/",
     "height": 465
    },
    "id": "TSUEqYEmBZXf",
    "outputId": "e6498315-89b2-449c-af11-c74ff0364d3f"
   },
   "outputs": [
    {
     "data": {
      "image/png": "[encoded data removed]",
      "text/plain": [
       "<Figure size 640x480 with 1 Axes>"
      ]
     },
     "metadata": {},
     "output_type": "display_data"
    }
   ],
   "source": [
    "max_iter = 20\n",
    "plt.plot(range(max_iter),final_centroid_c1[1],label = 'c1')\n",
    "plt.plot(range(max_iter),final_centroid_c2[1],label = 'c2')\n",
    "plt.xlabel('number of iterations')\n",
    "plt.ylabel('cost')\n",
    "plt.legend()\n",
    "plt.savefig('eu.jpg')"
   ]
  },
  {
   "cell_type": "markdown",
   "metadata": {
    "id": "oABKYHKOG8w6"
   },
   "source": [
    "## **(a) 2.**"
   ]
  },
  {
   "cell_type": "code",
   "execution_count": null,
   "metadata": {
    "colab": {
     "base_uri": "https://localhost:8080/"
    },
    "id": "Q1Fh9ZXZHCXG",
    "outputId": "0235d4ba-1ca0-44d3-c3e5-b440dbc5c37d"
   },
   "outputs": [
    {
     "name": "stdout",
     "output_type": "stream",
     "text": [
      "cost of c1: 0.2648391714456055\n",
      "cost of c2: 0.7669795594605946\n"
     ]
    }
   ],
   "source": [
    "cost_c1 = (final_centroid_c1[1][0] - final_centroid_c1[1][10])/final_centroid_c1[1][0]\n",
    "cost_c2 = (final_centroid_c2[1][0] - final_centroid_c2[1][10])/final_centroid_c2[1][0]\n",
    "print('cost of c1:', cost_c1)\n",
    "print('cost of c2:', cost_c2)"
   ]
  },
  {
   "cell_type": "markdown",
   "metadata": {
    "id": "tzZoabLoKB5F"
   },
   "source": [
    "## **(b) 1.**"
   ]
  },
  {
   "cell_type": "code",
   "execution_count": 14,
   "metadata": {
    "id": "WFw99OyAHCZx"
   },
   "outputs": [],
   "source": [
    "man_c1 = kmeans(rdd,centroid_1,k = 10,max_iter = 20,alg = 'man')\n",
    "man_c2 = kmeans(rdd,centroid_2,k = 10,max_iter = 20,alg = 'man')"
   ]
  },
  {
   "cell_type": "code",
   "execution_count": 19,
   "metadata": {
    "colab": {
     "base_uri": "https://localhost:8080/",
     "height": 465
    },
    "id": "XRNtVUjSft9p",
    "outputId": "38d4908a-aeeb-4a3f-d1d3-1acbffc4860f"
   },
   "outputs": [
    {
     "data": {
      "image/png": "[encoded data removed]",
      "text/plain": [
       "<Figure size 640x480 with 1 Axes>"
      ]
     },
     "metadata": {},
     "output_type": "display_data"
    }
   ],
   "source": [
    "max_iter = 20\n",
    "plt.plot(range(max_iter),man_c1[1],label = 'c1')\n",
    "plt.plot(range(max_iter),man_c2[1],label = 'c2')\n",
    "plt.legend()\n",
    "plt.xlabel('number of iterations')\n",
    "plt.ylabel('cost')\n",
    "plt.savefig('man.jpg')"
   ]
  },
  {
   "cell_type": "markdown",
   "metadata": {
    "id": "_n8RLQOmQD66"
   },
   "source": [
    "## **(b) 2.**"
   ]
  },
  {
   "cell_type": "code",
   "execution_count": null,
   "metadata": {
    "colab": {
     "base_uri": "https://localhost:8080/"
    },
    "id": "V25w-4rPHCcT",
    "outputId": "f45aabba-03fd-4c25-acaa-acd362baaf9c"
   },
   "outputs": [
    {
     "name": "stdout",
     "output_type": "stream",
     "text": [
      "cost of c1: 0.1865492611679923\n",
      "cost of c2: 0.515540991023891\n"
     ]
    }
   ],
   "source": [
    "cost_c1 = (man_c1[1][0] - man_c1[1][10])/man_c1[1][0]\n",
    "cost_c2 = (man_c2[1][0] - man_c2[1][10])/man_c2[1][0]\n",
    "print('cost of c1:', cost_c1)\n",
    "print('cost of c2:', cost_c2)"
   ]
  },
  {
   "cell_type": "markdown",
   "metadata": {
    "id": "A3pdjy0yQ5Jk"
   },
   "source": [
    "# **2 RecommenderSystems**"
   ]
  },
  {
   "cell_type": "markdown",
   "metadata": {
    "id": "wThCloBBCMGs"
   },
   "source": [
    "## **(d)**"
   ]
  },
  {
   "cell_type": "code",
   "execution_count": null,
   "metadata": {
    "colab": {
     "base_uri": "https://localhost:8080/"
    },
    "id": "KtG9n3vbCOwb",
    "outputId": "5d50ad54-1753-423f-efd9-13b54da0b4d4"
   },
   "outputs": [
    {
     "data": {
      "text/plain": [
       "(9985, 563)"
      ]
     },
     "execution_count": 86,
     "metadata": {},
     "output_type": "execute_result"
    }
   ],
   "source": [
    "R = np.loadtxt('user-shows.txt')\n",
    "shows = np.loadtxt('shows.txt',delimiter='\\n',dtype=str)\n",
    "R.shape"
   ]
  },
  {
   "cell_type": "markdown",
   "metadata": {
    "id": "Qmuu39f0Dhu2"
   },
   "source": [
    "### **(1)**"
   ]
  },
  {
   "cell_type": "code",
   "execution_count": null,
   "metadata": {
    "id": "OHgx2TMsCOy7"
   },
   "outputs": [],
   "source": [
    "def gen_P(R):\n",
    "  row_sum = []\n",
    "  for i in range(R.shape[0]):\n",
    "    row_sum.append(sum(R[i]))\n",
    "  P = np.diag(row_sum)\n",
    "  return P\n",
    "\n",
    "def gen_Q(R):\n",
    "  col_sum = []\n",
    "  for i in range(R.shape[1]):\n",
    "    col_sum.append(sum(R.T[i]))\n",
    "  Q = np.diag(col_sum)\n",
    "  return Q"
   ]
  },
  {
   "cell_type": "code",
   "execution_count": null,
   "metadata": {
    "id": "98b1Vva-CO2X"
   },
   "outputs": [],
   "source": [
    "P = gen_P(R)"
   ]
  },
  {
   "cell_type": "code",
   "execution_count": null,
   "metadata": {
    "id": "Qn1n5i6-FOma"
   },
   "outputs": [],
   "source": [
    "Q = gen_Q(R)"
   ]
  },
  {
   "cell_type": "markdown",
   "metadata": {
    "id": "q_z8EsNUTDX3"
   },
   "source": [
    "### **(2)**"
   ]
  },
  {
   "cell_type": "code",
   "execution_count": null,
   "metadata": {
    "id": "LW9weCozTCbL"
   },
   "outputs": [],
   "source": [
    "def user_user(R,P,Q):\n",
    "  PS = np.diagonal(P)**(-0.5)\n",
    "  PS = np.diag(PS)\n",
    "  return PS@R@R.T@PS@R"
   ]
  },
  {
   "cell_type": "code",
   "execution_count": null,
   "metadata": {
    "id": "16VVGrI5TCdl"
   },
   "outputs": [],
   "source": [
    "T_user = user_user(R,P,Q)"
   ]
  },
  {
   "cell_type": "code",
   "execution_count": null,
   "metadata": {
    "id": "Y9WPnKjsTChE"
   },
   "outputs": [],
   "source": [
    "sim = {}\n",
    "iter = 0\n",
    "for i in T_user.T[:100]:\n",
    "  sim[iter] = i[499]\n",
    "  iter += 1\n",
    "high_sim_user = sorted(sim.items(), key=lambda item: item[1], reverse = True)[:5]"
   ]
  },
  {
   "cell_type": "code",
   "execution_count": null,
   "metadata": {
    "colab": {
     "base_uri": "https://localhost:8080/"
    },
    "id": "twFJ7en6bxRA",
    "outputId": "938f090f-30c9-466c-a1ad-eb62f96853ff"
   },
   "outputs": [
    {
     "name": "stdout",
     "output_type": "stream",
     "text": [
      "\"FOX 28 News at 10pm\" , 908.480053476128\n",
      "\"Family Guy\" , 861.1759992873301\n",
      "\"2009 NCAA Basketball Tournament\" , 827.6012954743583\n",
      "\"NBC 4 at Eleven\" , 784.7819589039739\n",
      "\"Two and a Half Men\" , 757.6011181024228\n"
     ]
    }
   ],
   "source": [
    "for i in high_sim_user:\n",
    "  print(shows[i[0]],',',i[1])"
   ]
  },
  {
   "cell_type": "markdown",
   "metadata": {
    "id": "r3BrEVqCdIj9"
   },
   "source": [
    "### **(3)**"
   ]
  },
  {
   "cell_type": "code",
   "execution_count": null,
   "metadata": {
    "id": "HAKmOJXmdMLX"
   },
   "outputs": [],
   "source": [
    "def item_item(R,Q,P):\n",
    "  QS = np.diagonal(Q)**(-0.5)\n",
    "  QS = np.diag(QS)  \n",
    "  return R@QS@R.T@R@QS"
   ]
  },
  {
   "cell_type": "code",
   "execution_count": null,
   "metadata": {
    "id": "mFFDNp9edMN8"
   },
   "outputs": [],
   "source": [
    "T_item = item_item(R,Q,P)"
   ]
  },
  {
   "cell_type": "code",
   "execution_count": null,
   "metadata": {
    "id": "fj8sOyksdMRd"
   },
   "outputs": [],
   "source": [
    "sim = {}\n",
    "iter = 0\n",
    "for i in T_item.T[:100]:\n",
    "  sim[iter] = i[499]\n",
    "  iter += 1\n",
    "high_sim_item = sorted(sim.items(), key=lambda item: item[1], reverse = True)[:5]"
   ]
  },
  {
   "cell_type": "code",
   "execution_count": null,
   "metadata": {
    "colab": {
     "base_uri": "https://localhost:8080/"
    },
    "id": "UGIGGS4dduVB",
    "outputId": "7d10fa00-5544-4bc0-c555-c2b8d7c3e475"
   },
   "outputs": [
    {
     "name": "stdout",
     "output_type": "stream",
     "text": [
      "\"FOX 28 News at 10pm\" , 31.364701678342396\n",
      "\"Family Guy\" , 30.001141798877764\n",
      "\"NBC 4 at Eleven\" , 29.396797773402543\n",
      "\"2009 NCAA Basketball Tournament\" , 29.22700156150048\n",
      "\"Access Hollywood\" , 28.971277674055564\n"
     ]
    }
   ],
   "source": [
    "for i in high_sim_item:\n",
    "  print(shows[i[0]],',',i[1])"
   ]
  }
 ],
 "metadata": {
  "accelerator": "GPU",
  "colab": {
   "provenance": []
  },
  "gpuClass": "standard",
  "kernelspec": {
   "display_name": "Python 3 (ipykernel)",
   "language": "python",
   "name": "python3"
  },
  "language_info": {
   "codemirror_mode": {
    "name": "ipython",
    "version": 3
   },
   "file_extension": ".py",
   "mimetype": "text/x-python",
   "name": "python",
   "nbconvert_exporter": "python",
   "pygments_lexer": "ipython3",
   "version": "3.9.7"
  }
 },
 "nbformat": 4,
 "nbformat_minor": 1
}
